{
  "cells": [
    {
      "cell_type": "markdown",
      "metadata": {},
      "source": [
        "# Personality Prediction: Data Exploration and Preprocessing\n",
        "\n",
        "This notebook covers the complete data exploration, preprocessing, and feature engineering pipeline for the personality prediction project.\n",
        "\n",
        "## Overview\n",
        "- Dataset: Kaggle Competition \"Predict the Introverts from the Extroverts\"\n",
        "- Training samples: 18,524 (13,699 extroverts, 4,825 introverts)\n",
        "- Test samples: 6,176\n",
        "- Features: Social behavior, communication patterns, lifestyle indicators\n"
      ]
    },
    {
      "cell_type": "code",
      "execution_count": null,
      "metadata": {},
      "outputs": [],
      "source": [
        "# Import required libraries\n",
        "import pandas as pd\n",
        "import numpy as np\n",
        "import matplotlib.pyplot as plt\n",
        "import seaborn as sns\n",
        "from sklearn.model_selection import train_test_split\n",
        "from sklearn.preprocessing import StandardScaler\n",
        "from sklearn.impute import SimpleImputer\n",
        "from imblearn.over_sampling import SMOTE\n",
        "import warnings\n",
        "warnings.filterwarnings('ignore')\n",
        "\n",
        "# Set style\n",
        "plt.style.use('seaborn-v0_8')\n",
        "sns.set_palette(\"husl\")\n"
      ]
    }
  ],
  "metadata": {
    "language_info": {
      "name": "python"
    }
  },
  "nbformat": 4,
  "nbformat_minor": 2
}
